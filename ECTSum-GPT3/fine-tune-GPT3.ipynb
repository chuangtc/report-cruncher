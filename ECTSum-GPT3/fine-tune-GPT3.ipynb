{
 "cells": [
  {
   "attachments": {},
   "cell_type": "markdown",
   "metadata": {},
   "source": [
    "[![Open in Colab](https://colab.research.google.com/assets/colab-badge.svg)](https://colab.research.google.com/github/chuangtc/report-cruncher/ECTSum-GPT3/blob/main/fine-tune-GPT3.ipynb)\n"
   ]
  },
  {
   "cell_type": "code",
   "execution_count": 26,
   "metadata": {},
   "outputs": [
    {
     "name": "stdout",
     "output_type": "stream",
     "text": [
      "Hello, AIDATATOOLS\n",
      "Requirement already satisfied: openai in /Users/jasontgi/.pyenv/versions/3.9.16/lib/python3.9/site-packages (0.26.5)\n",
      "Requirement already satisfied: requests>=2.20 in /Users/jasontgi/.pyenv/versions/3.9.16/lib/python3.9/site-packages (from openai) (2.28.2)\n",
      "Requirement already satisfied: aiohttp in /Users/jasontgi/.pyenv/versions/3.9.16/lib/python3.9/site-packages (from openai) (3.8.4)\n",
      "Requirement already satisfied: tqdm in /Users/jasontgi/.pyenv/versions/3.9.16/lib/python3.9/site-packages (from openai) (4.64.1)\n",
      "Requirement already satisfied: urllib3<1.27,>=1.21.1 in /Users/jasontgi/.pyenv/versions/3.9.16/lib/python3.9/site-packages (from requests>=2.20->openai) (1.26.14)\n",
      "Requirement already satisfied: idna<4,>=2.5 in /Users/jasontgi/.pyenv/versions/3.9.16/lib/python3.9/site-packages (from requests>=2.20->openai) (3.4)\n",
      "Requirement already satisfied: certifi>=2017.4.17 in /Users/jasontgi/.pyenv/versions/3.9.16/lib/python3.9/site-packages (from requests>=2.20->openai) (2022.12.7)\n",
      "Requirement already satisfied: charset-normalizer<4,>=2 in /Users/jasontgi/.pyenv/versions/3.9.16/lib/python3.9/site-packages (from requests>=2.20->openai) (3.0.1)\n",
      "Requirement already satisfied: yarl<2.0,>=1.0 in /Users/jasontgi/.pyenv/versions/3.9.16/lib/python3.9/site-packages (from aiohttp->openai) (1.8.2)\n",
      "Requirement already satisfied: multidict<7.0,>=4.5 in /Users/jasontgi/.pyenv/versions/3.9.16/lib/python3.9/site-packages (from aiohttp->openai) (6.0.4)\n",
      "Requirement already satisfied: attrs>=17.3.0 in /Users/jasontgi/.pyenv/versions/3.9.16/lib/python3.9/site-packages (from aiohttp->openai) (22.2.0)\n",
      "Requirement already satisfied: aiosignal>=1.1.2 in /Users/jasontgi/.pyenv/versions/3.9.16/lib/python3.9/site-packages (from aiohttp->openai) (1.3.1)\n",
      "Requirement already satisfied: async-timeout<5.0,>=4.0.0a3 in /Users/jasontgi/.pyenv/versions/3.9.16/lib/python3.9/site-packages (from aiohttp->openai) (4.0.2)\n",
      "Requirement already satisfied: frozenlist>=1.1.1 in /Users/jasontgi/.pyenv/versions/3.9.16/lib/python3.9/site-packages (from aiohttp->openai) (1.3.3)\n",
      "\u001b[33mWARNING: You are using pip version 22.0.4; however, version 23.0.1 is available.\n",
      "You should consider upgrading via the '/Users/jasontgi/.pyenv/versions/3.9.16/bin/python3.9 -m pip install --upgrade pip' command.\u001b[0m\u001b[33m\n",
      "\u001b[0m"
     ]
    }
   ],
   "source": [
    "print('Hello, AIDATATOOLS')\n",
    "!pip install --upgrade openai\n",
    "import os\n",
    "import openai\n",
    "os.environ[\"OPENAI_API_KEY\"] = ''"
   ]
  },
  {
   "attachments": {},
   "cell_type": "markdown",
   "metadata": {},
   "source": [
    "## Do text smmarization, generate training validation data for GPT3"
   ]
  },
  {
   "cell_type": "code",
   "execution_count": 17,
   "metadata": {},
   "outputs": [
    {
     "name": "stdout",
     "output_type": "stream",
     "text": [
      "Training examples:\n",
      "Validation examples:\n"
     ]
    }
   ],
   "source": [
    "import json, requests\n",
    "\n",
    "def parse_line_break(foo): \n",
    "  return iter(foo.splitlines())\n",
    "\n",
    "\n",
    "train_http_path = \"https://github.com/chuangtc/ECTSum-GPT3/blob/main/data-bert/train.json?raw=true\"  \n",
    "req = requests.get(train_http_path)\n",
    "\n",
    "train_json_str_array = []\n",
    "train_json_str_array = list(parse_line_break(req.text))\n",
    "\n",
    "train_json =[]\n",
    "for x in train_json_str_array: \n",
    "  tmp_json = json.loads(x)\n",
    "  tmp_json['prompt'] = 'Summarize the following text:' + tmp_json.pop('doc')\n",
    "  tmp_json['completion'] = tmp_json.pop('summaries')\n",
    "  tmp_json.pop('labels', None)\n",
    "\n",
    "  train_json.append(tmp_json)\n",
    "\n",
    "val_http_path = \"https://github.com/chuangtc/ECTSum-GPT3/blob/main/data-bert/val.json?raw=true\"  \n",
    "req2 = requests.get(val_http_path)\n",
    "\n",
    "val_json_str_array = []\n",
    "val_json_str_array = list(parse_line_break(req2.text))\n",
    "\n",
    "val_json =[]\n",
    "for x in val_json_str_array: \n",
    "  tmp_json = json.loads(x)\n",
    "  tmp_json['prompt'] = 'Summarize the following text:' + tmp_json.pop('doc')\n",
    "  tmp_json['completion'] = tmp_json.pop('summaries')\n",
    "  \n",
    "  tmp_json.pop('labels', None)\n",
    "\n",
    "  val_json.append(tmp_json)\n",
    "\n",
    "print('Training examples:')\n",
    "#print(train_json[0])\n",
    "#print(train_json[1])\n",
    "print('Validation examples:')\n",
    "#print(val_json[0])\n",
    "#print(val_json[1])"
   ]
  },
  {
   "cell_type": "code",
   "execution_count": 18,
   "metadata": {},
   "outputs": [],
   "source": [
    "# Writing to sample.json\n",
    "with open(\"prepared_train.jsonl\", \"w\") as outfile:\n",
    "    outfile.write('\\n'.join(json.dumps(i) for i in train_json))\n",
    "\n",
    "# Writing to sample.json\n",
    "with open(\"prepared_val.jsonl\", \"w\") as outfile:\n",
    "    outfile.write('\\n'.join(json.dumps(i) for i in val_json))"
   ]
  },
  {
   "cell_type": "code",
   "execution_count": 19,
   "metadata": {},
   "outputs": [
    {
     "name": "stdout",
     "output_type": "stream",
     "text": [
      "Upload progress: 100%|████████████████████| 12.4M/12.4M [00:00<00:00, 8.43Git/s]\n",
      "Uploaded file from prepared_train.jsonl: file-23ru9jt8NQlwmgYT42UCJd8E\n",
      "Upload progress: 100%|████████████████████| 1.77M/1.77M [00:00<00:00, 1.32Git/s]\n",
      "Uploaded file from prepared_val.jsonl: file-wFCHjxi0Kmdet1baPovJB0vK\n",
      "Created fine-tune: ft-3Wnb4hOrXU1FuQGDRfyvNWlz\n",
      "Streaming events until fine-tuning is complete...\n",
      "\n",
      "(Ctrl-C will interrupt the stream, but not cancel the fine-tune)\n",
      "[2023-03-01 06:54:03] Created fine-tune: ft-3Wnb4hOrXU1FuQGDRfyvNWlz\n",
      "\n",
      "Stream interrupted (client disconnected).\n",
      "To resume the stream, run:\n",
      "\n",
      "  openai api fine_tunes.follow -i ft-3Wnb4hOrXU1FuQGDRfyvNWlz\n",
      "\n"
     ]
    }
   ],
   "source": [
    "!openai api fine_tunes.create -t \"prepared_train.jsonl\" -v \"prepared_val.jsonl\" -m ada "
   ]
  },
  {
   "attachments": {},
   "cell_type": "markdown",
   "metadata": {},
   "source": [
    "### It takes time to put fine-tune job in queue and training. Let's wait and check the status"
   ]
  },
  {
   "cell_type": "code",
   "execution_count": 24,
   "metadata": {},
   "outputs": [
    {
     "name": "stdout",
     "output_type": "stream",
     "text": [
      "[2023-03-01 06:54:03] Created fine-tune: ft-3Wnb4hOrXU1FuQGDRfyvNWlz\n",
      "[2023-03-01 07:04:44] Fine-tune costs $4.33\n",
      "[2023-03-01 07:04:45] Fine-tune enqueued. Queue number: 8\n",
      "[2023-03-01 07:13:23] Fine-tune is in the queue. Queue number: 7\n",
      "[2023-03-01 07:15:48] Fine-tune is in the queue. Queue number: 6\n",
      "[2023-03-01 07:24:56] Fine-tune is in the queue. Queue number: 5\n",
      "[2023-03-01 07:25:00] Fine-tune is in the queue. Queue number: 4\n",
      "[2023-03-01 07:25:40] Fine-tune is in the queue. Queue number: 3\n",
      "[2023-03-01 07:26:53] Fine-tune is in the queue. Queue number: 2\n",
      "[2023-03-01 07:39:00] Fine-tune is in the queue. Queue number: 1\n",
      "[2023-03-01 07:47:47] Fine-tune is in the queue. Queue number: 0\n",
      "[2023-03-01 07:49:08] Fine-tune started\n",
      "[2023-03-01 07:54:38] Completed epoch 1/4\n",
      "[2023-03-01 07:59:43] Completed epoch 2/4\n",
      "[2023-03-01 08:04:49] Completed epoch 3/4\n",
      "[2023-03-01 08:09:54] Completed epoch 4/4\n",
      "[2023-03-01 08:10:20] Uploaded model: ada:ft-tpisoftware-2023-03-01-00-10-20\n",
      "[2023-03-01 08:10:21] Uploaded result file: file-W5fRlC7XqWUu9T2e8J4ivdIJ\n",
      "[2023-03-01 08:10:21] Fine-tune succeeded\n",
      "\n",
      "Job complete! Status: succeeded 🎉\n",
      "Try out your fine-tuned model:\n",
      "\n",
      "openai api completions.create -m ada:ft-tpisoftware-2023-03-01-00-10-20 -p <YOUR_PROMPT>\n"
     ]
    }
   ],
   "source": [
    "!openai api fine_tunes.follow -i ft-3Wnb4hOrXU1FuQGDRfyvNWlz"
   ]
  },
  {
   "cell_type": "code",
   "execution_count": null,
   "metadata": {},
   "outputs": [],
   "source": [
    "!openai api completions.create -m ada:ft-tpisoftware-2023-03-01-00-10-20 -p \"Summarize the following text:During the first quarter, we maintained a very safe environment with an RIR of 0.64, which is in line with our full year 2020 performance.\\nFinancially, we delivered record first quarter revenue of $1.9 billion, an increase of 20% compared with the first quarter of 2020, up 18% on a constant currency basis; and adjusted EBIT of $282 million, which is more than double what we reported for the same period last year and a record for any first quarter historically.\\nOur performance during the quarter was driven by good volumes, broad price realization and strong manufacturing efficiencies across all our businesses, resulting in an adjusted EBIT margin for the company of 15%, with all three of our businesses posting double-digit EBIT margins for the third consecutive quarter.\\nShe joins us from Nordson Corporation where she served for 8 years, most recently as their General Counsel.\\nWe began our sustainability journey nearly 2 decades ago.\\nWe are proud of our progress and our accomplishments over the past decade across all of our 2020 sustainability goals, particularly our progress on climate action, where we have reduced absolute greenhouse gas emissions from our operations by 60% since our peak year despite adding several material acquisitions along the way.\\nIn our recently published 2030 goals, we are committed to further reduce these emissions by another 50%.\\nThis will result in 2030 absolute greenhouse gas emissions being 75% below our peak.\\nAt the same time, we are also committed to a 30% reduction in our scope 3 emissions as we focus on making a positive impact throughout our supply chain.\\nStrong top line growth, 400 basis points of gross margin expansion and continued operating expense discipline drove record first quarter adjusted EBIT, along with an adjusted EBIT margin of 15%.\\nFor the first quarter, we reported consolidated net sales of $1.9 billion, up 20% over 2020 with double-digit revenue growth in all 3 segments, reflecting the robust US residential housing market and the continued strengthening of commercial and industrial markets.\\nAdjusted EBIT for the first quarter of 2021 reached $282 million, up $166 million compared to the prior year and was highlighted by all 3 segments continuing to deliver double-digit EBIT margins.\\nAdjusted earnings for the first quarter were $183 million or $1.73 per diluted share compared to $67 million or $0.62 per diluted share in Q1 2020.\\nDepreciation and amortization expense for the quarter was $119 million, up slightly compared to the prior year.\\nOur capital additions for the first quarter were $60 million, up $6 million as compared to Q1 2020.\\nSlide 6 reconciles our first quarter adjusted EBIT of $282 million to our reported EBIT of $301 million.\\nDuring the quarter, we recognized $20 million of gains on the sale of certain precious metals.\\nIn addition, we recorded $1 million of restructuring costs associated with the Insulation network optimization actions that we initiated in the fourth quarter of 2020.\\nAdjusted EBIT of $282 million was a new first quarter record for the company and increased $166 million over the prior year.\\nRoofing and Insulation more than doubled their EBIT and Composites grew by 80%.\\nSales for the quarter were $700 million, a 16% increase over first quarter 2020.\\nWe delivered margins of 12% and EBIT of $82 million more than double the $39 million of EBIT in the first quarter of last year.\\nSales for the first quarter were $559 million, up 13% compared to the prior year.\\nFor the quarter, Composites delivered $79 million of EBIT and EBIT margin of 14%.\\nSales in the first quarter were $711 million, up 28% compared to the prior year.\\nThe US asphalt shingle market grew 26% for the quarter as compared to the prior year with our US shingle volumes, slightly outperforming the market.\\nSimilar to the other 2 businesses, strong manufacturing performance was a fundamental element of the Roofing business results.\\nFor the quarter, EBIT was $156 million, up $92 million from the prior year, achieving 22% EBIT margins.\\nFree cash flow for the first quarter of 2021 at $120 million, up $264 million compared to the first quarter of 2020.\\nDuring the first quarter of 2021, we repurchased 1.6 million shares of our common stock and returned $197 million of cash to shareholders through stock repurchases and dividends.\\nAt quarter end, the company had liquidity of approximately $1.7 billion, consisting of $605 million of cash and nearly $1.1 billion of combined availability on our bank debt facilities.\\nWe remain focused on consistently generating strong free cash flow, returning at least 50% to investors over time and maintaining an investment-grade balance sheet.\\nGeneral corporate expenses are expected to range between $135 million and $145 million.\\nCapital additions are expected to be approximately $460 million, which is below expected depreciation and amortization of approximately $480 million.\\nInterest expense is estimated to be between $120 million and $130 million.\\nAnd we expect our 2021 effective tax rate to be 26% to 28% of adjusted pre-tax earnings and our cash tax rate to be 18% to 20% of adjusted pre-tax earnings.\\nGiven the decline in North American residential Fiberglas Insulation shipments last year during the second quarter, we expect those sea shipments to grow about 25%, with pricing continuing to improve from realization of our April increase.\\nGiven our outlook for inflation, we have also recently announced an 8% price increase effective June 28.\\nAdditionally, we anticipate benefits of approximately $30 million from better fixed cost absorption on higher production volumes.\\nMoving on to Composites; we expect our volume growth to continue at a strong pace, up approximately 30% versus the prior year.\\nMargins should benefit from the reversal of roughly $30 million of curtailment cost we saw in the second quarter of 2020.\\nAnd in Roofing, we expect the market to be up between 15% and 20%, with our volumes up mid to high single digits.\\nRoofing pricing is expected to improve with the announced increase of 5% to 7% that was effective at the beginning of this month.\\nGiven this, we have recently announced an additional price increase of 4% to 6% effective in mid-June.\\nOverall, we expect EBIT margins to increase sequentially from Q1, approaching mid-20%.\\nReturning at least 50% of free cash flow to shareholders over time through dividends and share repurchases and maintaining an investment-grade balance sheet.\""
   ]
  },
  {
   "cell_type": "code",
   "execution_count": null,
   "metadata": {},
   "outputs": [],
   "source": [
    "openai.api_key = os.getenv(\"OPENAI_API_KEY\")\n",
    "openai.Completion.create(\n",
    "  model=\"text-davinci-003\",\n",
    "  prompt=\"Say this is a test\",\n",
    "  max_tokens=7,\n",
    "  temperature=0\n",
    ")"
   ]
  },
  {
   "cell_type": "code",
   "execution_count": 28,
   "metadata": {},
   "outputs": [
    {
     "data": {
      "text/plain": [
       "<OpenAIObject text_completion id=cmpl-6p4x0eQuRB83JEWs19ssaSS5g7TKC at 0x1011ea4a0> JSON: {\n",
       "  \"choices\": [\n",
       "    {\n",
       "      \"finish_reason\": \"length\",\n",
       "      \"index\": 0,\n",
       "      \"logprobs\": null,\n",
       "      \"text\": \"\\nWe have been in the business of providing our customers with the best quality products and services for over 40 years.\\nWe have been in the business of providing our customers with the best quality products and services for over 40 years.\\nWe have been in the business of providing our customers with the best quality products and services for over 40 years.\\nWe have been in the business of providing our customers with the best quality products and services for over 40 years.\\nWe have been in the business of providing our customers with the best quality products and services for over 40 years.\\nWe have been in the business of providing our customers with the best quality products and services for over 40 years.\\nWe have been in the business of providing our customers with the best quality products and services for over 40 years.\\nWe have been in the business of providing our customers with the best quality products and services for over 40 years.\\nWe have been in the business of providing our customers with the best quality products and services for over 40 years.\\nWe have been in the business of providing our customers with the best quality products and services for over 40 years.\\nWe have been in the business of providing our customers with the best quality products and services for over 40 years.\\nWe have\"\n",
       "    }\n",
       "  ],\n",
       "  \"created\": 1677631778,\n",
       "  \"id\": \"cmpl-6p4x0eQuRB83JEWs19ssaSS5g7TKC\",\n",
       "  \"model\": \"ada:ft-tpisoftware-2023-03-01-00-10-20\",\n",
       "  \"object\": \"text_completion\",\n",
       "  \"usage\": {\n",
       "    \"completion_tokens\": 256,\n",
       "    \"prompt_tokens\": 17,\n",
       "    \"total_tokens\": 273\n",
       "  }\n",
       "}"
      ]
     },
     "execution_count": 28,
     "metadata": {},
     "output_type": "execute_result"
    }
   ],
   "source": [
    "openai.api_key = os.getenv(\"OPENAI_API_KEY\")\n",
    "openai.Completion.create(\n",
    "  model=\"ada:ft-tpisoftware-2023-03-01-00-10-20\",\n",
    "  prompt=\"Summarize the following text:During earining call, the price drops 10%.\",\n",
    "  max_tokens=256,\n",
    "  temperature=0\n",
    ")"
   ]
  }
 ],
 "metadata": {
  "kernelspec": {
   "display_name": "Python 3",
   "language": "python",
   "name": "python3"
  },
  "language_info": {
   "codemirror_mode": {
    "name": "ipython",
    "version": 3
   },
   "file_extension": ".py",
   "mimetype": "text/x-python",
   "name": "python",
   "nbconvert_exporter": "python",
   "pygments_lexer": "ipython3",
   "version": "3.9.16"
  },
  "orig_nbformat": 4,
  "vscode": {
   "interpreter": {
    "hash": "c729383e6da80e919506282388b17d1ce109ba1945b55bed9eddbbcda99e332d"
   }
  }
 },
 "nbformat": 4,
 "nbformat_minor": 2
}
