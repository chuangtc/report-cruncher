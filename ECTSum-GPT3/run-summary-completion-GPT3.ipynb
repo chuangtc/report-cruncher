{
 "cells": [
  {
   "attachments": {},
   "cell_type": "markdown",
   "metadata": {},
   "source": [
    "[![Open in Colab](https://colab.research.google.com/assets/colab-badge.svg)](https://colab.research.google.com/github/chuangtc/report-cruncher/ECTSum-GPT3/blob/main/run-summary-completion-GPT3.ipynb)\n"
   ]
  },
  {
   "cell_type": "code",
   "execution_count": 1,
   "metadata": {},
   "outputs": [
    {
     "name": "stdout",
     "output_type": "stream",
     "text": [
      "Hello, AIDATATOOLS\n",
      "Requirement already satisfied: openai in /Users/jasontgi/.pyenv/versions/3.9.16/lib/python3.9/site-packages (0.26.5)\n",
      "Collecting openai\n",
      "  Downloading openai-0.27.0-py3-none-any.whl (70 kB)\n",
      "\u001b[2K     \u001b[90m━━━━━━━━━━━━━━━━━━━━━━━━━━━━━━━━━━━━━━━\u001b[0m \u001b[32m70.1/70.1 KB\u001b[0m \u001b[31m565.2 kB/s\u001b[0m eta \u001b[36m0:00:00\u001b[0m \u001b[36m0:00:01\u001b[0m\n",
      "\u001b[?25hRequirement already satisfied: aiohttp in /Users/jasontgi/.pyenv/versions/3.9.16/lib/python3.9/site-packages (from openai) (3.8.4)\n",
      "Requirement already satisfied: tqdm in /Users/jasontgi/.pyenv/versions/3.9.16/lib/python3.9/site-packages (from openai) (4.64.1)\n",
      "Requirement already satisfied: requests>=2.20 in /Users/jasontgi/.pyenv/versions/3.9.16/lib/python3.9/site-packages (from openai) (2.28.2)\n",
      "Requirement already satisfied: charset-normalizer<4,>=2 in /Users/jasontgi/.pyenv/versions/3.9.16/lib/python3.9/site-packages (from requests>=2.20->openai) (3.0.1)\n",
      "Requirement already satisfied: certifi>=2017.4.17 in /Users/jasontgi/.pyenv/versions/3.9.16/lib/python3.9/site-packages (from requests>=2.20->openai) (2022.12.7)\n",
      "Requirement already satisfied: idna<4,>=2.5 in /Users/jasontgi/.pyenv/versions/3.9.16/lib/python3.9/site-packages (from requests>=2.20->openai) (3.4)\n",
      "Requirement already satisfied: urllib3<1.27,>=1.21.1 in /Users/jasontgi/.pyenv/versions/3.9.16/lib/python3.9/site-packages (from requests>=2.20->openai) (1.26.14)\n",
      "Requirement already satisfied: attrs>=17.3.0 in /Users/jasontgi/.pyenv/versions/3.9.16/lib/python3.9/site-packages (from aiohttp->openai) (22.2.0)\n",
      "Requirement already satisfied: multidict<7.0,>=4.5 in /Users/jasontgi/.pyenv/versions/3.9.16/lib/python3.9/site-packages (from aiohttp->openai) (6.0.4)\n",
      "Requirement already satisfied: async-timeout<5.0,>=4.0.0a3 in /Users/jasontgi/.pyenv/versions/3.9.16/lib/python3.9/site-packages (from aiohttp->openai) (4.0.2)\n",
      "Requirement already satisfied: frozenlist>=1.1.1 in /Users/jasontgi/.pyenv/versions/3.9.16/lib/python3.9/site-packages (from aiohttp->openai) (1.3.3)\n",
      "Requirement already satisfied: aiosignal>=1.1.2 in /Users/jasontgi/.pyenv/versions/3.9.16/lib/python3.9/site-packages (from aiohttp->openai) (1.3.1)\n",
      "Requirement already satisfied: yarl<2.0,>=1.0 in /Users/jasontgi/.pyenv/versions/3.9.16/lib/python3.9/site-packages (from aiohttp->openai) (1.8.2)\n",
      "Installing collected packages: openai\n",
      "  Attempting uninstall: openai\n",
      "    Found existing installation: openai 0.26.5\n",
      "    Uninstalling openai-0.26.5:\n",
      "      Successfully uninstalled openai-0.26.5\n",
      "Successfully installed openai-0.27.0\n",
      "\u001b[33mWARNING: You are using pip version 22.0.4; however, version 23.0.1 is available.\n",
      "You should consider upgrading via the '/Users/jasontgi/.pyenv/versions/3.9.16/bin/python3.9 -m pip install --upgrade pip' command.\u001b[0m\u001b[33m\n",
      "\u001b[0m"
     ]
    }
   ],
   "source": [
    "print('Hello, AIDATATOOLS')\n",
    "!pip install --upgrade openai\n",
    "import os\n",
    "import openai\n",
    "os.environ[\"OPENAI_API_KEY\"] = ''"
   ]
  },
  {
   "attachments": {},
   "cell_type": "markdown",
   "metadata": {},
   "source": [
    "## Do text smmarization via GPT3"
   ]
  },
  {
   "cell_type": "code",
   "execution_count": null,
   "metadata": {},
   "outputs": [],
   "source": [
    "openai.api_key = os.getenv(\"OPENAI_API_KEY\")\n",
    "openai.Completion.create(\n",
    "  model=\"text-davinci-003\",\n",
    "  prompt=\"Say this is a test\",\n",
    "  max_tokens=7,\n",
    "  temperature=0\n",
    ")\n"
   ]
  },
  {
   "cell_type": "code",
   "execution_count": 8,
   "metadata": {},
   "outputs": [
    {
     "name": "stdout",
     "output_type": "stream",
     "text": [
      "{\n",
      "  \"choices\": [\n",
      "    {\n",
      "      \"finish_reason\": \"length\",\n",
      "      \"index\": 0,\n",
      "      \"logprobs\": null,\n",
      "      \"text\": \"We are pleased to announce that we have delivered over $1.5 billion in net income for the first quarter of 2021.\\nWe are pleased to announce that we have delivered over $1.5 billion in net income for the first quarter of 2021.\\nWe are pleased to announce that we have delivered over $1.5 billion in net income for the first quarter of 2021.\\nWe are pleased to announce that we have delivered over $1.5 billion in net income for the first quarter of 2021.\\nWe are pleased to announce that we have delivered over $1.5 billion in net income for the first quarter of 2021.\\nWe are pleased to announce that we have delivered over $1.5 billion in net income for the first quarter of 2021.\\nWe are pleased to announce that we have delivered over $1.5 billion in net income for the first quarter of 2021.\\nWe are pleased to announce that we have delivered over $1.5 billion in net income for the first quarter of 2021.\\nWe are pleased to announce that we have delivered over $1.5 billion in net income for the first quarter of 2021.\\nWe are pleased to announce that we have delivered over $1.5 billion in net income for the first quarter\"\n",
      "    }\n",
      "  ],\n",
      "  \"created\": 1677740868,\n",
      "  \"id\": \"cmpl-6pXKWpUYVR2gHjigqdGsQwIZZkEH5\",\n",
      "  \"model\": \"ada:ft-tpisoftware-2023-03-01-00-10-20\",\n",
      "  \"object\": \"text_completion\",\n",
      "  \"usage\": {\n",
      "    \"completion_tokens\": 256,\n",
      "    \"prompt_tokens\": 10,\n",
      "    \"total_tokens\": 266\n",
      "  }\n",
      "}\n"
     ]
    }
   ],
   "source": [
    "openai.api_key = os.getenv(\"OPENAI_API_KEY\")\n",
    "import json\n",
    "fs_dataPath='data-exp/temp/exp.json'\n",
    "f_in = open(f'{fs_dataPath}', 'r')\n",
    "doc_lines = [line.strip() for line in f_in.readlines()]\n",
    "for doc in doc_lines:\n",
    "  prompt = 'Summarize the following text:'+json.loads(doc)['doc']\n",
    "  response=openai.Completion.create(\n",
    "    model=\"ada:ft-tpisoftware-2023-03-01-00-10-20\",\n",
    "    prompt=\"Summarize the following text:{prompt}\",\n",
    "    max_tokens=256,\n",
    "    temperature=0\n",
    "  )\n",
    "  print(response)"
   ]
  }
 ],
 "metadata": {
  "kernelspec": {
   "display_name": "Python 3",
   "language": "python",
   "name": "python3"
  },
  "language_info": {
   "codemirror_mode": {
    "name": "ipython",
    "version": 3
   },
   "file_extension": ".py",
   "mimetype": "text/x-python",
   "name": "python",
   "nbconvert_exporter": "python",
   "pygments_lexer": "ipython3",
   "version": "3.9.16"
  },
  "orig_nbformat": 4,
  "vscode": {
   "interpreter": {
    "hash": "c729383e6da80e919506282388b17d1ce109ba1945b55bed9eddbbcda99e332d"
   }
  }
 },
 "nbformat": 4,
 "nbformat_minor": 2
}
